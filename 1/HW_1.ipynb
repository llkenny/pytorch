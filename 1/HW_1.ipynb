{
 "cells": [
  {
   "cell_type": "code",
   "execution_count": 1,
   "metadata": {
    "id": "_CNZn_3CofVO"
   },
   "outputs": [],
   "source": [
    "import torch"
   ]
  },
  {
   "cell_type": "code",
   "execution_count": 2,
   "metadata": {
    "id": "QGYTKAxeofVR"
   },
   "outputs": [
    {
     "data": {
      "text/plain": [
       "tensor([[[0.4384, 0.9078, 0.4584, 0.5819, 0.7299],\n",
       "         [0.8598, 0.7653, 0.3665, 0.2073, 0.4775],\n",
       "         [0.6301, 0.3100, 0.2265, 0.3083, 0.7970],\n",
       "         [0.3084, 0.3669, 0.0611, 0.5365, 0.9313]],\n",
       "\n",
       "        [[0.1098, 0.1009, 0.0378, 0.5035, 0.0102],\n",
       "         [0.9877, 0.5743, 0.2242, 0.2292, 0.6485],\n",
       "         [0.2925, 0.6018, 0.5296, 0.2996, 0.0909],\n",
       "         [0.7969, 0.4644, 0.7722, 0.7980, 0.0447]],\n",
       "\n",
       "        [[0.3942, 0.2858, 0.1519, 0.9853, 0.5960],\n",
       "         [0.6587, 0.1155, 0.2570, 0.6450, 0.9850],\n",
       "         [0.5000, 0.7721, 0.2400, 0.8658, 0.3433],\n",
       "         [0.3455, 0.2629, 0.6242, 0.3768, 0.3184]]])"
      ]
     },
     "execution_count": 2,
     "metadata": {},
     "output_type": "execute_result"
    }
   ],
   "source": [
    "# 1. Создайте случайный FloatTensor размера 3x4x5\n",
    "a = torch.rand(3, 4, 5).type(torch.FloatTensor)\n",
    "a"
   ]
  },
  {
   "cell_type": "code",
   "execution_count": 3,
   "metadata": {
    "id": "7GV_q8DdofVV"
   },
   "outputs": [
    {
     "data": {
      "text/plain": [
       "torch.Size([3, 4, 5])"
      ]
     },
     "execution_count": 3,
     "metadata": {},
     "output_type": "execute_result"
    }
   ],
   "source": [
    "# 2. Выведите его форму (shape)\n",
    "a.shape"
   ]
  },
  {
   "cell_type": "code",
   "execution_count": 4,
   "metadata": {
    "id": "f1OTy65FofVX"
   },
   "outputs": [
    {
     "data": {
      "text/plain": [
       "tensor([[0.4384, 0.9078, 0.4584, 0.5819, 0.7299, 0.8598, 0.7653, 0.3665, 0.2073,\n",
       "         0.4775],\n",
       "        [0.6301, 0.3100, 0.2265, 0.3083, 0.7970, 0.3084, 0.3669, 0.0611, 0.5365,\n",
       "         0.9313],\n",
       "        [0.1098, 0.1009, 0.0378, 0.5035, 0.0102, 0.9877, 0.5743, 0.2242, 0.2292,\n",
       "         0.6485],\n",
       "        [0.2925, 0.6018, 0.5296, 0.2996, 0.0909, 0.7969, 0.4644, 0.7722, 0.7980,\n",
       "         0.0447],\n",
       "        [0.3942, 0.2858, 0.1519, 0.9853, 0.5960, 0.6587, 0.1155, 0.2570, 0.6450,\n",
       "         0.9850],\n",
       "        [0.5000, 0.7721, 0.2400, 0.8658, 0.3433, 0.3455, 0.2629, 0.6242, 0.3768,\n",
       "         0.3184]])"
      ]
     },
     "execution_count": 4,
     "metadata": {},
     "output_type": "execute_result"
    }
   ],
   "source": [
    "# 3. Приведите его к форме 6х10\n",
    "a = a.reshape(6, 10)\n",
    "a"
   ]
  },
  {
   "cell_type": "code",
   "execution_count": 5,
   "metadata": {
    "id": "BEVOv9_TofVe"
   },
   "outputs": [
    {
     "data": {
      "text/plain": [
       "tensor([2, 2, 2, 0, 1, 4, 0, 3, 4, 3])"
      ]
     },
     "execution_count": 5,
     "metadata": {},
     "output_type": "execute_result"
    }
   ],
   "source": [
    "# 4. Создайте случайный IntTensor размера 10\n",
    "b = torch.randint(5, size=(10,))\n",
    "b"
   ]
  },
  {
   "cell_type": "code",
   "execution_count": 6,
   "metadata": {
    "id": "TAX3DUiSa07K"
   },
   "outputs": [
    {
     "data": {
      "text/plain": [
       "tensor([[0.8769, 1.8156, 0.9168, 0.0000, 0.7299, 3.4391, 0.0000, 1.0996, 0.8291,\n",
       "         1.4326],\n",
       "        [1.2602, 0.6199, 0.4529, 0.0000, 0.7970, 1.2338, 0.0000, 0.1832, 2.1462,\n",
       "         2.7938],\n",
       "        [0.2195, 0.2018, 0.0756, 0.0000, 0.0102, 3.9509, 0.0000, 0.6726, 0.9168,\n",
       "         1.9456],\n",
       "        [0.5851, 1.2035, 1.0592, 0.0000, 0.0909, 3.1876, 0.0000, 2.3165, 3.1921,\n",
       "         0.1341],\n",
       "        [0.7884, 0.5715, 0.3039, 0.0000, 0.5960, 2.6349, 0.0000, 0.7710, 2.5801,\n",
       "         2.9549],\n",
       "        [1.0000, 1.5442, 0.4799, 0.0000, 0.3433, 1.3821, 0.0000, 1.8726, 1.5072,\n",
       "         0.9552]])"
      ]
     },
     "execution_count": 6,
     "metadata": {},
     "output_type": "execute_result"
    }
   ],
   "source": [
    "# 5. Умножьте созданный FloatTensor на созданный IntTensor поэлементно\n",
    "a * b"
   ]
  },
  {
   "cell_type": "code",
   "execution_count": 7,
   "metadata": {
    "id": "eUxdWlQZofVi"
   },
   "outputs": [
    {
     "data": {
      "text/plain": [
       "tensor([[3.8279, 2.5468, 2.1855, 2.6683, 2.8633, 2.7417],\n",
       "        [2.5468, 2.6632, 1.5283, 1.5887, 2.6748, 1.8891],\n",
       "        [2.1855, 1.5283, 2.1061, 1.7034, 2.1412, 1.5064],\n",
       "        [2.6683, 1.5887, 1.7034, 2.9120, 2.0529, 2.2229],\n",
       "        [2.8633, 2.6748, 2.1412, 2.0529, 3.4857, 2.4869],\n",
       "        [2.7417, 1.8891, 1.5064, 2.2229, 2.4869, 2.5927]])"
      ]
     },
     "execution_count": 7,
     "metadata": {},
     "output_type": "execute_result"
    }
   ],
   "source": [
    "# 6. Умножьте тензор матрично на себя, чтобы результат был размерности 6x6\n",
    "# Подсказка: .dot может не подойти\n",
    "a.mm(a.t())"
   ]
  },
  {
   "cell_type": "code",
   "execution_count": 8,
   "metadata": {
    "id": "u3V6CsNkofVj"
   },
   "outputs": [
    {
     "name": "stdout",
     "output_type": "stream",
     "text": [
      "None\n"
     ]
    },
    {
     "name": "stderr",
     "output_type": "stream",
     "text": [
      "/Users/maximdoroshenko/opt/anaconda3/lib/python3.8/site-packages/torch/_tensor.py:1104: UserWarning: The .grad attribute of a Tensor that is not a leaf Tensor is being accessed. Its .grad attribute won't be populated during autograd.backward(). If you indeed want the .grad field to be populated for a non-leaf Tensor, use .retain_grad() on the non-leaf Tensor. If you access the non-leaf Tensor by mistake, make sure you access the leaf Tensor instead. See github.com/pytorch/pytorch/pull/30531 for more informations. (Triggered internally at  /Users/distiller/project/pytorch/build/aten/src/ATen/core/TensorBody.h:475.)\n",
      "  return self._grad\n"
     ]
    }
   ],
   "source": [
    "# 7. Посчитайте производную функции y = x**3 + z - 75t в точке (1, 0.5, 2)\n",
    "x = torch.tensor(1.0, requires_grad=True)\n",
    "z = torch.tensor(0.5, requires_grad=True)\n",
    "t = torch.tensor(2.0, requires_grad=True)\n",
    "y = x**3 + z - 75 * t\n",
    "y.backward()\n",
    "print(y.grad)"
   ]
  },
  {
   "cell_type": "code",
   "execution_count": 9,
   "metadata": {},
   "outputs": [
    {
     "name": "stdout",
     "output_type": "stream",
     "text": [
      "None\n"
     ]
    }
   ],
   "source": [
    "x = torch.tensor([1.0, 0.5, 2], requires_grad=True)\n",
    "z = t = torch.ones(3, requires_grad=True)\n",
    "y = x**3 + z - 75 * t\n",
    "y.backward(x)\n",
    "print(y.grad)"
   ]
  },
  {
   "cell_type": "code",
   "execution_count": 10,
   "metadata": {
    "id": "FzH6QkyxofVm"
   },
   "outputs": [
    {
     "data": {
      "text/plain": [
       "tensor([[1., 1., 1., 1., 1., 1.],\n",
       "        [1., 1., 1., 1., 1., 1.],\n",
       "        [1., 1., 1., 1., 1., 1.],\n",
       "        [1., 1., 1., 1., 1., 1.],\n",
       "        [1., 1., 1., 1., 1., 1.]])"
      ]
     },
     "execution_count": 10,
     "metadata": {},
     "output_type": "execute_result"
    }
   ],
   "source": [
    "# 8. Создайте единичный тензор размера 5x6\n",
    "x = torch.ones(5, 6)\n",
    "x"
   ]
  },
  {
   "cell_type": "code",
   "execution_count": 11,
   "metadata": {
    "id": "z49ttvWPofVo"
   },
   "outputs": [
    {
     "data": {
      "text/plain": [
       "array([[1., 1., 1., 1., 1., 1.],\n",
       "       [1., 1., 1., 1., 1., 1.],\n",
       "       [1., 1., 1., 1., 1., 1.],\n",
       "       [1., 1., 1., 1., 1., 1.],\n",
       "       [1., 1., 1., 1., 1., 1.]], dtype=float32)"
      ]
     },
     "execution_count": 11,
     "metadata": {},
     "output_type": "execute_result"
    }
   ],
   "source": [
    "# 9. Переведите его в формат numpy\n",
    "x.numpy()"
   ]
  },
  {
   "cell_type": "code",
   "execution_count": null,
   "metadata": {},
   "outputs": [],
   "source": []
  }
 ],
 "metadata": {
  "colab": {
   "collapsed_sections": [],
   "name": "HW_1.ipynb",
   "provenance": []
  },
  "kernelspec": {
   "display_name": "Python 3",
   "language": "python",
   "name": "python3"
  },
  "language_info": {
   "codemirror_mode": {
    "name": "ipython",
    "version": 3
   },
   "file_extension": ".py",
   "mimetype": "text/x-python",
   "name": "python",
   "nbconvert_exporter": "python",
   "pygments_lexer": "ipython3",
   "version": "3.8.5"
  }
 },
 "nbformat": 4,
 "nbformat_minor": 1
}
